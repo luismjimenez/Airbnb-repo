{
 "cells": [
  {
   "cell_type": "code",
   "execution_count": 1,
   "metadata": {},
   "outputs": [],
   "source": [
    "import pandas as pd\n",
    "import numpy as np\n",
    "import matplotlib.pyplot as plt\n",
    "import seaborn as sns\n",
    "pd.options.display.max_rows=120"
   ]
  },
  {
   "cell_type": "markdown",
   "metadata": {},
   "source": [
    "## Import Datasets"
   ]
  },
  {
   "cell_type": "code",
   "execution_count": 2,
   "metadata": {},
   "outputs": [],
   "source": [
    "listings = pd.read_csv('../Lisbon-Portugal-data/listings.csv', low_memory=False)\n",
    "listings_two = pd.read_csv('../Lisbon-Portugal-data/listings-2.csv')\n",
    "calendar = pd.read_csv('../Lisbon-Portugal-data/calendar.csv', low_memory=False)\n",
    "neighborhoods = pd.read_csv('../Lisbon-Portugal-data/neighbourhoods.csv')\n",
    "# reviews = pd.read_csv('../Lisbon-Portugal-data/reviews.csv', low_memory=False)\n",
    "# reviews_two = pd.read_csv('../Lisbon-Portugal-data/reviews-2.csv', low_memory=False)"
   ]
  },
  {
   "cell_type": "markdown",
   "metadata": {},
   "source": [
    "## Examine Data"
   ]
  },
  {
   "cell_type": "code",
   "execution_count": null,
   "metadata": {},
   "outputs": [],
   "source": [
    "listings.describe()"
   ]
  },
  {
   "cell_type": "code",
   "execution_count": null,
   "metadata": {},
   "outputs": [],
   "source": [
    "listings.drop(['thumbnail_url', 'medium_url', 'xl_picture_url'], axis=1, inplace=True)"
   ]
  },
  {
   "cell_type": "code",
   "execution_count": null,
   "metadata": {},
   "outputs": [],
   "source": [
    "listings.describe()"
   ]
  },
  {
   "cell_type": "code",
   "execution_count": null,
   "metadata": {},
   "outputs": [],
   "source": [
    "listings.info()"
   ]
  },
  {
   "cell_type": "code",
   "execution_count": null,
   "metadata": {},
   "outputs": [],
   "source": [
    "listings.info(verbose=True)"
   ]
  },
  {
   "cell_type": "code",
   "execution_count": null,
   "metadata": {},
   "outputs": [],
   "source": [
    "listings['has_availability']\n",
    "# if its booked can assume to show minimum if it has avail == f then booked"
   ]
  },
  {
   "cell_type": "code",
   "execution_count": 3,
   "metadata": {},
   "outputs": [
    {
     "name": "stdout",
     "output_type": "stream",
     "text": [
      "<class 'pandas.core.frame.DataFrame'>\n",
      "RangeIndex: 24302 entries, 0 to 24301\n",
      "Data columns (total 16 columns):\n",
      " #   Column                          Non-Null Count  Dtype  \n",
      "---  ------                          --------------  -----  \n",
      " 0   id                              24302 non-null  int64  \n",
      " 1   name                            24283 non-null  object \n",
      " 2   host_id                         24302 non-null  int64  \n",
      " 3   host_name                       24301 non-null  object \n",
      " 4   neighbourhood_group             24302 non-null  object \n",
      " 5   neighbourhood                   24302 non-null  object \n",
      " 6   latitude                        24302 non-null  float64\n",
      " 7   longitude                       24302 non-null  float64\n",
      " 8   room_type                       24302 non-null  object \n",
      " 9   price                           24302 non-null  int64  \n",
      " 10  minimum_nights                  24302 non-null  int64  \n",
      " 11  number_of_reviews               24302 non-null  int64  \n",
      " 12  last_review                     20075 non-null  object \n",
      " 13  reviews_per_month               20075 non-null  float64\n",
      " 14  calculated_host_listings_count  24302 non-null  int64  \n",
      " 15  availability_365                24302 non-null  int64  \n",
      "dtypes: float64(3), int64(7), object(6)\n",
      "memory usage: 3.0+ MB\n"
     ]
    }
   ],
   "source": [
    "listings_two.info(verbose=True)"
   ]
  },
  {
   "cell_type": "code",
   "execution_count": 4,
   "metadata": {},
   "outputs": [
    {
     "data": {
      "text/html": [
       "<div>\n",
       "<style scoped>\n",
       "    .dataframe tbody tr th:only-of-type {\n",
       "        vertical-align: middle;\n",
       "    }\n",
       "\n",
       "    .dataframe tbody tr th {\n",
       "        vertical-align: top;\n",
       "    }\n",
       "\n",
       "    .dataframe thead th {\n",
       "        text-align: right;\n",
       "    }\n",
       "</style>\n",
       "<table border=\"1\" class=\"dataframe\">\n",
       "  <thead>\n",
       "    <tr style=\"text-align: right;\">\n",
       "      <th></th>\n",
       "      <th>id</th>\n",
       "      <th>host_id</th>\n",
       "      <th>latitude</th>\n",
       "      <th>longitude</th>\n",
       "      <th>price</th>\n",
       "      <th>minimum_nights</th>\n",
       "      <th>number_of_reviews</th>\n",
       "      <th>reviews_per_month</th>\n",
       "      <th>calculated_host_listings_count</th>\n",
       "      <th>availability_365</th>\n",
       "    </tr>\n",
       "  </thead>\n",
       "  <tbody>\n",
       "    <tr>\n",
       "      <th>count</th>\n",
       "      <td>2.430200e+04</td>\n",
       "      <td>2.430200e+04</td>\n",
       "      <td>24302.000000</td>\n",
       "      <td>24302.000000</td>\n",
       "      <td>24302.000000</td>\n",
       "      <td>24302.000000</td>\n",
       "      <td>24302.000000</td>\n",
       "      <td>20075.000000</td>\n",
       "      <td>24302.000000</td>\n",
       "      <td>24302.000000</td>\n",
       "    </tr>\n",
       "    <tr>\n",
       "      <th>mean</th>\n",
       "      <td>2.257234e+07</td>\n",
       "      <td>9.490641e+07</td>\n",
       "      <td>38.755631</td>\n",
       "      <td>-9.202451</td>\n",
       "      <td>111.541848</td>\n",
       "      <td>3.391367</td>\n",
       "      <td>41.446054</td>\n",
       "      <td>1.385960</td>\n",
       "      <td>14.835322</td>\n",
       "      <td>223.512880</td>\n",
       "    </tr>\n",
       "    <tr>\n",
       "      <th>std</th>\n",
       "      <td>1.213037e+07</td>\n",
       "      <td>9.333440e+07</td>\n",
       "      <td>0.103688</td>\n",
       "      <td>0.110301</td>\n",
       "      <td>351.691298</td>\n",
       "      <td>16.272085</td>\n",
       "      <td>65.824770</td>\n",
       "      <td>1.411868</td>\n",
       "      <td>42.781736</td>\n",
       "      <td>135.147466</td>\n",
       "    </tr>\n",
       "    <tr>\n",
       "      <th>min</th>\n",
       "      <td>6.499000e+03</td>\n",
       "      <td>1.445500e+04</td>\n",
       "      <td>38.676080</td>\n",
       "      <td>-9.498520</td>\n",
       "      <td>0.000000</td>\n",
       "      <td>1.000000</td>\n",
       "      <td>0.000000</td>\n",
       "      <td>0.010000</td>\n",
       "      <td>1.000000</td>\n",
       "      <td>0.000000</td>\n",
       "    </tr>\n",
       "    <tr>\n",
       "      <th>25%</th>\n",
       "      <td>1.348872e+07</td>\n",
       "      <td>1.521207e+07</td>\n",
       "      <td>38.711040</td>\n",
       "      <td>-9.218737</td>\n",
       "      <td>47.000000</td>\n",
       "      <td>1.000000</td>\n",
       "      <td>2.000000</td>\n",
       "      <td>0.290000</td>\n",
       "      <td>1.000000</td>\n",
       "      <td>97.000000</td>\n",
       "    </tr>\n",
       "    <tr>\n",
       "      <th>50%</th>\n",
       "      <td>2.298439e+07</td>\n",
       "      <td>5.937474e+07</td>\n",
       "      <td>38.717835</td>\n",
       "      <td>-9.146800</td>\n",
       "      <td>70.000000</td>\n",
       "      <td>2.000000</td>\n",
       "      <td>13.000000</td>\n",
       "      <td>0.890000</td>\n",
       "      <td>3.000000</td>\n",
       "      <td>269.000000</td>\n",
       "    </tr>\n",
       "    <tr>\n",
       "      <th>75%</th>\n",
       "      <td>3.279862e+07</td>\n",
       "      <td>1.610771e+08</td>\n",
       "      <td>38.739197</td>\n",
       "      <td>-9.134610</td>\n",
       "      <td>100.000000</td>\n",
       "      <td>3.000000</td>\n",
       "      <td>53.000000</td>\n",
       "      <td>2.100000</td>\n",
       "      <td>10.000000</td>\n",
       "      <td>351.000000</td>\n",
       "    </tr>\n",
       "    <tr>\n",
       "      <th>max</th>\n",
       "      <td>4.356874e+07</td>\n",
       "      <td>3.474345e+08</td>\n",
       "      <td>39.303670</td>\n",
       "      <td>-8.838270</td>\n",
       "      <td>10000.000000</td>\n",
       "      <td>1000.000000</td>\n",
       "      <td>877.000000</td>\n",
       "      <td>19.610000</td>\n",
       "      <td>336.000000</td>\n",
       "      <td>365.000000</td>\n",
       "    </tr>\n",
       "  </tbody>\n",
       "</table>\n",
       "</div>"
      ],
      "text/plain": [
       "                 id       host_id      latitude     longitude         price  \\\n",
       "count  2.430200e+04  2.430200e+04  24302.000000  24302.000000  24302.000000   \n",
       "mean   2.257234e+07  9.490641e+07     38.755631     -9.202451    111.541848   \n",
       "std    1.213037e+07  9.333440e+07      0.103688      0.110301    351.691298   \n",
       "min    6.499000e+03  1.445500e+04     38.676080     -9.498520      0.000000   \n",
       "25%    1.348872e+07  1.521207e+07     38.711040     -9.218737     47.000000   \n",
       "50%    2.298439e+07  5.937474e+07     38.717835     -9.146800     70.000000   \n",
       "75%    3.279862e+07  1.610771e+08     38.739197     -9.134610    100.000000   \n",
       "max    4.356874e+07  3.474345e+08     39.303670     -8.838270  10000.000000   \n",
       "\n",
       "       minimum_nights  number_of_reviews  reviews_per_month  \\\n",
       "count    24302.000000       24302.000000       20075.000000   \n",
       "mean         3.391367          41.446054           1.385960   \n",
       "std         16.272085          65.824770           1.411868   \n",
       "min          1.000000           0.000000           0.010000   \n",
       "25%          1.000000           2.000000           0.290000   \n",
       "50%          2.000000          13.000000           0.890000   \n",
       "75%          3.000000          53.000000           2.100000   \n",
       "max       1000.000000         877.000000          19.610000   \n",
       "\n",
       "       calculated_host_listings_count  availability_365  \n",
       "count                    24302.000000      24302.000000  \n",
       "mean                        14.835322        223.512880  \n",
       "std                         42.781736        135.147466  \n",
       "min                          1.000000          0.000000  \n",
       "25%                          1.000000         97.000000  \n",
       "50%                          3.000000        269.000000  \n",
       "75%                         10.000000        351.000000  \n",
       "max                        336.000000        365.000000  "
      ]
     },
     "execution_count": 4,
     "metadata": {},
     "output_type": "execute_result"
    }
   ],
   "source": [
    "listings_two.describe()"
   ]
  },
  {
   "cell_type": "code",
   "execution_count": 5,
   "metadata": {},
   "outputs": [
    {
     "data": {
      "text/plain": [
       "id                                              24302\n",
       "listing_url                                     24302\n",
       "scrape_id                                       24302\n",
       "last_scraped                                    24302\n",
       "name                                            24283\n",
       "summary                                         23382\n",
       "space                                           19104\n",
       "description                                     23980\n",
       "experiences_offered                             24302\n",
       "neighborhood_overview                           16602\n",
       "notes                                           12599\n",
       "transit                                         16325\n",
       "access                                          13340\n",
       "interaction                                     14543\n",
       "house_rules                                     14160\n",
       "thumbnail_url                                       0\n",
       "medium_url                                          0\n",
       "picture_url                                     24302\n",
       "xl_picture_url                                      0\n",
       "host_id                                         24302\n",
       "host_url                                        24302\n",
       "host_name                                       24301\n",
       "host_since                                      24301\n",
       "host_location                                   24263\n",
       "host_about                                      14356\n",
       "host_response_time                              17419\n",
       "host_response_rate                              17419\n",
       "host_acceptance_rate                            21757\n",
       "host_is_superhost                               24301\n",
       "host_thumbnail_url                              24301\n",
       "host_picture_url                                24301\n",
       "host_neighbourhood                              14881\n",
       "host_listings_count                             24301\n",
       "host_total_listings_count                       24301\n",
       "host_verifications                              24302\n",
       "host_has_profile_pic                            24301\n",
       "host_identity_verified                          24301\n",
       "street                                          24302\n",
       "neighbourhood                                   17862\n",
       "neighbourhood_cleansed                          24302\n",
       "neighbourhood_group_cleansed                    24302\n",
       "city                                            24157\n",
       "state                                           23475\n",
       "zipcode                                         23612\n",
       "market                                          24298\n",
       "smart_location                                  24302\n",
       "country_code                                    24302\n",
       "country                                         24302\n",
       "latitude                                        24302\n",
       "longitude                                       24302\n",
       "is_location_exact                               24302\n",
       "property_type                                   24302\n",
       "room_type                                       24302\n",
       "accommodates                                    24302\n",
       "bathrooms                                       24277\n",
       "bedrooms                                        24290\n",
       "beds                                            24163\n",
       "bed_type                                        24302\n",
       "amenities                                       24302\n",
       "square_feet                                       366\n",
       "price                                           24302\n",
       "weekly_price                                     1625\n",
       "monthly_price                                    1415\n",
       "security_deposit                                18548\n",
       "cleaning_fee                                    19880\n",
       "guests_included                                 24302\n",
       "extra_people                                    24302\n",
       "minimum_nights                                  24302\n",
       "maximum_nights                                  24302\n",
       "minimum_minimum_nights                          24302\n",
       "maximum_minimum_nights                          24302\n",
       "minimum_maximum_nights                          24302\n",
       "maximum_maximum_nights                          24302\n",
       "minimum_nights_avg_ntm                          24302\n",
       "maximum_nights_avg_ntm                          24302\n",
       "calendar_updated                                24302\n",
       "has_availability                                24302\n",
       "availability_30                                 24302\n",
       "availability_60                                 24302\n",
       "availability_90                                 24302\n",
       "availability_365                                24302\n",
       "calendar_last_scraped                           24302\n",
       "number_of_reviews                               24302\n",
       "number_of_reviews_ltm                           24302\n",
       "first_review                                    20075\n",
       "last_review                                     20075\n",
       "review_scores_rating                            19894\n",
       "review_scores_accuracy                          19881\n",
       "review_scores_cleanliness                       19886\n",
       "review_scores_checkin                           19875\n",
       "review_scores_communication                     19880\n",
       "review_scores_location                          19877\n",
       "review_scores_value                             19875\n",
       "requires_license                                24302\n",
       "license                                         20984\n",
       "jurisdiction_names                              17708\n",
       "instant_bookable                                24302\n",
       "is_business_travel_ready                        24302\n",
       "cancellation_policy                             24302\n",
       "require_guest_profile_picture                   24302\n",
       "require_guest_phone_verification                24302\n",
       "calculated_host_listings_count                  24302\n",
       "calculated_host_listings_count_entire_homes     24302\n",
       "calculated_host_listings_count_private_rooms    24302\n",
       "calculated_host_listings_count_shared_rooms     24302\n",
       "reviews_per_month                               20075\n",
       "dtype: int64"
      ]
     },
     "execution_count": 5,
     "metadata": {},
     "output_type": "execute_result"
    }
   ],
   "source": [
    "listings.count()"
   ]
  },
  {
   "cell_type": "code",
   "execution_count": null,
   "metadata": {},
   "outputs": [],
   "source": [
    "listings.columns"
   ]
  },
  {
   "cell_type": "markdown",
   "metadata": {},
   "source": [
    "## check nulls"
   ]
  },
  {
   "cell_type": "code",
   "execution_count": null,
   "metadata": {},
   "outputs": [],
   "source": [
    "# listings.isna()\n",
    "# listings.isnull().sum()\n",
    "# listings.isnull().values.any()\n",
    "# listings.isnull().sum().sum()"
   ]
  },
  {
   "cell_type": "code",
   "execution_count": null,
   "metadata": {},
   "outputs": [],
   "source": [
    "mask = listings.notna()\n",
    "listings[mask]"
   ]
  },
  {
   "cell_type": "code",
   "execution_count": null,
   "metadata": {},
   "outputs": [],
   "source": [
    "listings.head(10)"
   ]
  },
  {
   "cell_type": "code",
   "execution_count": null,
   "metadata": {},
   "outputs": [],
   "source": [
    "listings_two.tail(10)"
   ]
  },
  {
   "cell_type": "code",
   "execution_count": null,
   "metadata": {},
   "outputs": [],
   "source": [
    "listings_two.tail(10)"
   ]
  },
  {
   "cell_type": "code",
   "execution_count": null,
   "metadata": {},
   "outputs": [],
   "source": [
    "listings_two.head(10)"
   ]
  },
  {
   "cell_type": "code",
   "execution_count": null,
   "metadata": {},
   "outputs": [],
   "source": [
    "# df = listings.merge(listings_two, on='id')\n",
    "# df"
   ]
  },
  {
   "cell_type": "code",
   "execution_count": null,
   "metadata": {},
   "outputs": [],
   "source": [
    "# df.drop(['listing_url','scrape_id','last_scraped'], axis=1, inplace=True)"
   ]
  },
  {
   "cell_type": "code",
   "execution_count": null,
   "metadata": {},
   "outputs": [],
   "source": [
    "# df.head(10)"
   ]
  },
  {
   "cell_type": "code",
   "execution_count": 20,
   "metadata": {},
   "outputs": [
    {
     "name": "stdout",
     "output_type": "stream",
     "text": [
      "<class 'pandas.core.frame.DataFrame'>\n",
      "RangeIndex: 8870230 entries, 0 to 8870229\n",
      "Data columns (total 7 columns):\n",
      " #   Column          Dtype  \n",
      "---  ------          -----  \n",
      " 0   listing_id      int64  \n",
      " 1   date            object \n",
      " 2   available       object \n",
      " 3   price           object \n",
      " 4   adjusted_price  object \n",
      " 5   minimum_nights  float64\n",
      " 6   maximum_nights  float64\n",
      "dtypes: float64(2), int64(1), object(4)\n",
      "memory usage: 473.7+ MB\n"
     ]
    }
   ],
   "source": [
    "calendar.info()"
   ]
  },
  {
   "cell_type": "code",
   "execution_count": null,
   "metadata": {},
   "outputs": [],
   "source": [
    "calendar.date = pd.to_datetime(calendar.date)\n",
    "## cast to datetime or int"
   ]
  },
  {
   "cell_type": "code",
   "execution_count": null,
   "metadata": {},
   "outputs": [],
   "source": [
    "calendar.head()"
   ]
  },
  {
   "cell_type": "code",
   "execution_count": 19,
   "metadata": {},
   "outputs": [
    {
     "data": {
      "text/html": [
       "<div>\n",
       "<style scoped>\n",
       "    .dataframe tbody tr th:only-of-type {\n",
       "        vertical-align: middle;\n",
       "    }\n",
       "\n",
       "    .dataframe tbody tr th {\n",
       "        vertical-align: top;\n",
       "    }\n",
       "\n",
       "    .dataframe thead th {\n",
       "        text-align: right;\n",
       "    }\n",
       "</style>\n",
       "<table border=\"1\" class=\"dataframe\">\n",
       "  <thead>\n",
       "    <tr style=\"text-align: right;\">\n",
       "      <th></th>\n",
       "      <th>listing_id</th>\n",
       "      <th>minimum_nights</th>\n",
       "      <th>maximum_nights</th>\n",
       "    </tr>\n",
       "  </thead>\n",
       "  <tbody>\n",
       "    <tr>\n",
       "      <th>count</th>\n",
       "      <td>8.870230e+06</td>\n",
       "      <td>8.869861e+06</td>\n",
       "      <td>8.869861e+06</td>\n",
       "    </tr>\n",
       "    <tr>\n",
       "      <th>mean</th>\n",
       "      <td>2.257234e+07</td>\n",
       "      <td>3.664800e+00</td>\n",
       "      <td>8.944841e+05</td>\n",
       "    </tr>\n",
       "    <tr>\n",
       "      <th>std</th>\n",
       "      <td>1.213012e+07</td>\n",
       "      <td>1.597480e+01</td>\n",
       "      <td>4.301646e+07</td>\n",
       "    </tr>\n",
       "    <tr>\n",
       "      <th>min</th>\n",
       "      <td>6.499000e+03</td>\n",
       "      <td>1.000000e+00</td>\n",
       "      <td>1.000000e+00</td>\n",
       "    </tr>\n",
       "    <tr>\n",
       "      <th>25%</th>\n",
       "      <td>1.348852e+07</td>\n",
       "      <td>1.000000e+00</td>\n",
       "      <td>3.600000e+02</td>\n",
       "    </tr>\n",
       "    <tr>\n",
       "      <th>50%</th>\n",
       "      <td>2.298439e+07</td>\n",
       "      <td>2.000000e+00</td>\n",
       "      <td>1.125000e+03</td>\n",
       "    </tr>\n",
       "    <tr>\n",
       "      <th>75%</th>\n",
       "      <td>3.279901e+07</td>\n",
       "      <td>3.000000e+00</td>\n",
       "      <td>1.125000e+03</td>\n",
       "    </tr>\n",
       "    <tr>\n",
       "      <th>max</th>\n",
       "      <td>4.356874e+07</td>\n",
       "      <td>3.180000e+03</td>\n",
       "      <td>2.147484e+09</td>\n",
       "    </tr>\n",
       "  </tbody>\n",
       "</table>\n",
       "</div>"
      ],
      "text/plain": [
       "         listing_id  minimum_nights  maximum_nights\n",
       "count  8.870230e+06    8.869861e+06    8.869861e+06\n",
       "mean   2.257234e+07    3.664800e+00    8.944841e+05\n",
       "std    1.213012e+07    1.597480e+01    4.301646e+07\n",
       "min    6.499000e+03    1.000000e+00    1.000000e+00\n",
       "25%    1.348852e+07    1.000000e+00    3.600000e+02\n",
       "50%    2.298439e+07    2.000000e+00    1.125000e+03\n",
       "75%    3.279901e+07    3.000000e+00    1.125000e+03\n",
       "max    4.356874e+07    3.180000e+03    2.147484e+09"
      ]
     },
     "execution_count": 19,
     "metadata": {},
     "output_type": "execute_result"
    }
   ],
   "source": [
    "calendar.describe()"
   ]
  },
  {
   "cell_type": "code",
   "execution_count": null,
   "metadata": {},
   "outputs": [],
   "source": [
    "calendar['date'].max()\n",
    "calendar['date'].min()\n",
    "# can use these dates to calculate income, price * minimum nights where booked (available == f)\n",
    "# where available is false = its booked\n",
    "# check last update for dataset, find last update compare with already booked vs reservation\n",
    "# get already booked from listings df"
   ]
  },
  {
   "cell_type": "markdown",
   "metadata": {},
   "source": [
    "# 3,338,149 listings booked * (price * minimum nights)\n",
    "### - set price as int? to multiply\n",
    "### - price * 365 days? for max income?"
   ]
  },
  {
   "cell_type": "code",
   "execution_count": 22,
   "metadata": {},
   "outputs": [
    {
     "data": {
      "text/html": [
       "<div>\n",
       "<style scoped>\n",
       "    .dataframe tbody tr th:only-of-type {\n",
       "        vertical-align: middle;\n",
       "    }\n",
       "\n",
       "    .dataframe tbody tr th {\n",
       "        vertical-align: top;\n",
       "    }\n",
       "\n",
       "    .dataframe thead th {\n",
       "        text-align: right;\n",
       "    }\n",
       "</style>\n",
       "<table border=\"1\" class=\"dataframe\">\n",
       "  <thead>\n",
       "    <tr style=\"text-align: right;\">\n",
       "      <th></th>\n",
       "      <th>listing_id</th>\n",
       "      <th>date</th>\n",
       "      <th>price</th>\n",
       "      <th>adjusted_price</th>\n",
       "      <th>minimum_nights</th>\n",
       "      <th>maximum_nights</th>\n",
       "    </tr>\n",
       "    <tr>\n",
       "      <th>available</th>\n",
       "      <th></th>\n",
       "      <th></th>\n",
       "      <th></th>\n",
       "      <th></th>\n",
       "      <th></th>\n",
       "      <th></th>\n",
       "    </tr>\n",
       "  </thead>\n",
       "  <tbody>\n",
       "    <tr>\n",
       "      <th>f</th>\n",
       "      <td>3338149</td>\n",
       "      <td>3338149</td>\n",
       "      <td>3338097</td>\n",
       "      <td>3338097</td>\n",
       "      <td>3338134</td>\n",
       "      <td>3338134</td>\n",
       "    </tr>\n",
       "    <tr>\n",
       "      <th>t</th>\n",
       "      <td>5532081</td>\n",
       "      <td>5532081</td>\n",
       "      <td>5531938</td>\n",
       "      <td>5531938</td>\n",
       "      <td>5531727</td>\n",
       "      <td>5531727</td>\n",
       "    </tr>\n",
       "  </tbody>\n",
       "</table>\n",
       "</div>"
      ],
      "text/plain": [
       "           listing_id     date    price  adjusted_price  minimum_nights  \\\n",
       "available                                                                 \n",
       "f             3338149  3338149  3338097         3338097         3338134   \n",
       "t             5532081  5532081  5531938         5531938         5531727   \n",
       "\n",
       "           maximum_nights  \n",
       "available                  \n",
       "f                 3338134  \n",
       "t                 5531727  "
      ]
     },
     "execution_count": 22,
     "metadata": {},
     "output_type": "execute_result"
    }
   ],
   "source": [
    "# calendar[calendar['available']=='f'].agg(np.sum)['available']\n",
    "# calendar.loc[calendar['available']=='t'].count()\n",
    "# calendar.loc[calendar['available']=='f'].count()\n",
    "calendar.groupby(['available']).count()"
   ]
  },
  {
   "cell_type": "code",
   "execution_count": 28,
   "metadata": {},
   "outputs": [
    {
     "data": {
      "text/plain": [
       "2147483647.0"
      ]
     },
     "execution_count": 28,
     "metadata": {},
     "output_type": "execute_result"
    }
   ],
   "source": [
    "calendar['minimum_nights']\n",
    "calendar['maximum_nights']"
   ]
  },
  {
   "cell_type": "markdown",
   "metadata": {},
   "source": [
    "# merge listings and calendar?"
   ]
  },
  {
   "cell_type": "code",
   "execution_count": 6,
   "metadata": {},
   "outputs": [
    {
     "data": {
      "text/html": [
       "<div>\n",
       "<style scoped>\n",
       "    .dataframe tbody tr th:only-of-type {\n",
       "        vertical-align: middle;\n",
       "    }\n",
       "\n",
       "    .dataframe tbody tr th {\n",
       "        vertical-align: top;\n",
       "    }\n",
       "\n",
       "    .dataframe thead th {\n",
       "        text-align: right;\n",
       "    }\n",
       "</style>\n",
       "<table border=\"1\" class=\"dataframe\">\n",
       "  <thead>\n",
       "    <tr style=\"text-align: right;\">\n",
       "      <th></th>\n",
       "      <th>id</th>\n",
       "      <th>host_id</th>\n",
       "      <th>latitude</th>\n",
       "      <th>longitude</th>\n",
       "      <th>price</th>\n",
       "      <th>minimum_nights</th>\n",
       "      <th>number_of_reviews</th>\n",
       "      <th>reviews_per_month</th>\n",
       "      <th>calculated_host_listings_count</th>\n",
       "      <th>availability_365</th>\n",
       "    </tr>\n",
       "  </thead>\n",
       "  <tbody>\n",
       "    <tr>\n",
       "      <th>count</th>\n",
       "      <td>2.430200e+04</td>\n",
       "      <td>2.430200e+04</td>\n",
       "      <td>24302.000000</td>\n",
       "      <td>24302.000000</td>\n",
       "      <td>24302.000000</td>\n",
       "      <td>24302.000000</td>\n",
       "      <td>24302.000000</td>\n",
       "      <td>20075.000000</td>\n",
       "      <td>24302.000000</td>\n",
       "      <td>24302.000000</td>\n",
       "    </tr>\n",
       "    <tr>\n",
       "      <th>mean</th>\n",
       "      <td>2.257234e+07</td>\n",
       "      <td>9.490641e+07</td>\n",
       "      <td>38.755631</td>\n",
       "      <td>-9.202451</td>\n",
       "      <td>111.541848</td>\n",
       "      <td>3.391367</td>\n",
       "      <td>41.446054</td>\n",
       "      <td>1.385960</td>\n",
       "      <td>14.835322</td>\n",
       "      <td>223.512880</td>\n",
       "    </tr>\n",
       "    <tr>\n",
       "      <th>std</th>\n",
       "      <td>1.213037e+07</td>\n",
       "      <td>9.333440e+07</td>\n",
       "      <td>0.103688</td>\n",
       "      <td>0.110301</td>\n",
       "      <td>351.691298</td>\n",
       "      <td>16.272085</td>\n",
       "      <td>65.824770</td>\n",
       "      <td>1.411868</td>\n",
       "      <td>42.781736</td>\n",
       "      <td>135.147466</td>\n",
       "    </tr>\n",
       "    <tr>\n",
       "      <th>min</th>\n",
       "      <td>6.499000e+03</td>\n",
       "      <td>1.445500e+04</td>\n",
       "      <td>38.676080</td>\n",
       "      <td>-9.498520</td>\n",
       "      <td>0.000000</td>\n",
       "      <td>1.000000</td>\n",
       "      <td>0.000000</td>\n",
       "      <td>0.010000</td>\n",
       "      <td>1.000000</td>\n",
       "      <td>0.000000</td>\n",
       "    </tr>\n",
       "    <tr>\n",
       "      <th>25%</th>\n",
       "      <td>1.348872e+07</td>\n",
       "      <td>1.521207e+07</td>\n",
       "      <td>38.711040</td>\n",
       "      <td>-9.218737</td>\n",
       "      <td>47.000000</td>\n",
       "      <td>1.000000</td>\n",
       "      <td>2.000000</td>\n",
       "      <td>0.290000</td>\n",
       "      <td>1.000000</td>\n",
       "      <td>97.000000</td>\n",
       "    </tr>\n",
       "    <tr>\n",
       "      <th>50%</th>\n",
       "      <td>2.298439e+07</td>\n",
       "      <td>5.937474e+07</td>\n",
       "      <td>38.717835</td>\n",
       "      <td>-9.146800</td>\n",
       "      <td>70.000000</td>\n",
       "      <td>2.000000</td>\n",
       "      <td>13.000000</td>\n",
       "      <td>0.890000</td>\n",
       "      <td>3.000000</td>\n",
       "      <td>269.000000</td>\n",
       "    </tr>\n",
       "    <tr>\n",
       "      <th>75%</th>\n",
       "      <td>3.279862e+07</td>\n",
       "      <td>1.610771e+08</td>\n",
       "      <td>38.739197</td>\n",
       "      <td>-9.134610</td>\n",
       "      <td>100.000000</td>\n",
       "      <td>3.000000</td>\n",
       "      <td>53.000000</td>\n",
       "      <td>2.100000</td>\n",
       "      <td>10.000000</td>\n",
       "      <td>351.000000</td>\n",
       "    </tr>\n",
       "    <tr>\n",
       "      <th>max</th>\n",
       "      <td>4.356874e+07</td>\n",
       "      <td>3.474345e+08</td>\n",
       "      <td>39.303670</td>\n",
       "      <td>-8.838270</td>\n",
       "      <td>10000.000000</td>\n",
       "      <td>1000.000000</td>\n",
       "      <td>877.000000</td>\n",
       "      <td>19.610000</td>\n",
       "      <td>336.000000</td>\n",
       "      <td>365.000000</td>\n",
       "    </tr>\n",
       "  </tbody>\n",
       "</table>\n",
       "</div>"
      ],
      "text/plain": [
       "                 id       host_id      latitude     longitude         price  \\\n",
       "count  2.430200e+04  2.430200e+04  24302.000000  24302.000000  24302.000000   \n",
       "mean   2.257234e+07  9.490641e+07     38.755631     -9.202451    111.541848   \n",
       "std    1.213037e+07  9.333440e+07      0.103688      0.110301    351.691298   \n",
       "min    6.499000e+03  1.445500e+04     38.676080     -9.498520      0.000000   \n",
       "25%    1.348872e+07  1.521207e+07     38.711040     -9.218737     47.000000   \n",
       "50%    2.298439e+07  5.937474e+07     38.717835     -9.146800     70.000000   \n",
       "75%    3.279862e+07  1.610771e+08     38.739197     -9.134610    100.000000   \n",
       "max    4.356874e+07  3.474345e+08     39.303670     -8.838270  10000.000000   \n",
       "\n",
       "       minimum_nights  number_of_reviews  reviews_per_month  \\\n",
       "count    24302.000000       24302.000000       20075.000000   \n",
       "mean         3.391367          41.446054           1.385960   \n",
       "std         16.272085          65.824770           1.411868   \n",
       "min          1.000000           0.000000           0.010000   \n",
       "25%          1.000000           2.000000           0.290000   \n",
       "50%          2.000000          13.000000           0.890000   \n",
       "75%          3.000000          53.000000           2.100000   \n",
       "max       1000.000000         877.000000          19.610000   \n",
       "\n",
       "       calculated_host_listings_count  availability_365  \n",
       "count                    24302.000000      24302.000000  \n",
       "mean                        14.835322        223.512880  \n",
       "std                         42.781736        135.147466  \n",
       "min                          1.000000          0.000000  \n",
       "25%                          1.000000         97.000000  \n",
       "50%                          3.000000        269.000000  \n",
       "75%                         10.000000        351.000000  \n",
       "max                        336.000000        365.000000  "
      ]
     },
     "execution_count": 6,
     "metadata": {},
     "output_type": "execute_result"
    }
   ],
   "source": [
    "listings_two.describe()"
   ]
  },
  {
   "cell_type": "code",
   "execution_count": 7,
   "metadata": {},
   "outputs": [
    {
     "name": "stdout",
     "output_type": "stream",
     "text": [
      "<class 'pandas.core.frame.DataFrame'>\n",
      "RangeIndex: 24302 entries, 0 to 24301\n",
      "Data columns (total 16 columns):\n",
      " #   Column                          Non-Null Count  Dtype  \n",
      "---  ------                          --------------  -----  \n",
      " 0   id                              24302 non-null  int64  \n",
      " 1   name                            24283 non-null  object \n",
      " 2   host_id                         24302 non-null  int64  \n",
      " 3   host_name                       24301 non-null  object \n",
      " 4   neighbourhood_group             24302 non-null  object \n",
      " 5   neighbourhood                   24302 non-null  object \n",
      " 6   latitude                        24302 non-null  float64\n",
      " 7   longitude                       24302 non-null  float64\n",
      " 8   room_type                       24302 non-null  object \n",
      " 9   price                           24302 non-null  int64  \n",
      " 10  minimum_nights                  24302 non-null  int64  \n",
      " 11  number_of_reviews               24302 non-null  int64  \n",
      " 12  last_review                     20075 non-null  object \n",
      " 13  reviews_per_month               20075 non-null  float64\n",
      " 14  calculated_host_listings_count  24302 non-null  int64  \n",
      " 15  availability_365                24302 non-null  int64  \n",
      "dtypes: float64(3), int64(7), object(6)\n",
      "memory usage: 3.0+ MB\n"
     ]
    }
   ],
   "source": [
    "listings_two.info()"
   ]
  },
  {
   "cell_type": "code",
   "execution_count": 8,
   "metadata": {},
   "outputs": [
    {
     "data": {
      "text/plain": [
       "Timestamp('2020-06-05 00:00:00')"
      ]
     },
     "execution_count": 8,
     "metadata": {},
     "output_type": "execute_result"
    }
   ],
   "source": [
    "listings_two.last_review = pd.to_datetime(listings_two.last_review)\n",
    "listings_two['last_review'].min()\n",
    "listings_two['last_review'].max()\n",
    "# check listings from 06-05-2019 to 06-05-2020 these are real booked: price * minimum nights\n",
    "#compare against reserved from calendar: price * minimum nights"
   ]
  },
  {
   "cell_type": "code",
   "execution_count": 9,
   "metadata": {},
   "outputs": [
    {
     "data": {
      "text/html": [
       "<div>\n",
       "<style scoped>\n",
       "    .dataframe tbody tr th:only-of-type {\n",
       "        vertical-align: middle;\n",
       "    }\n",
       "\n",
       "    .dataframe tbody tr th {\n",
       "        vertical-align: top;\n",
       "    }\n",
       "\n",
       "    .dataframe thead th {\n",
       "        text-align: right;\n",
       "    }\n",
       "</style>\n",
       "<table border=\"1\" class=\"dataframe\">\n",
       "  <thead>\n",
       "    <tr style=\"text-align: right;\">\n",
       "      <th></th>\n",
       "      <th>id</th>\n",
       "      <th>name</th>\n",
       "      <th>host_id</th>\n",
       "      <th>host_name</th>\n",
       "      <th>neighbourhood_group</th>\n",
       "      <th>neighbourhood</th>\n",
       "      <th>latitude</th>\n",
       "      <th>longitude</th>\n",
       "      <th>room_type</th>\n",
       "      <th>price</th>\n",
       "      <th>minimum_nights</th>\n",
       "      <th>number_of_reviews</th>\n",
       "      <th>last_review</th>\n",
       "      <th>reviews_per_month</th>\n",
       "      <th>calculated_host_listings_count</th>\n",
       "      <th>availability_365</th>\n",
       "    </tr>\n",
       "  </thead>\n",
       "  <tbody>\n",
       "    <tr>\n",
       "      <th>0</th>\n",
       "      <td>6499</td>\n",
       "      <td>Belém 1 Bedroom Historical Apartment</td>\n",
       "      <td>14455</td>\n",
       "      <td>Bruno</td>\n",
       "      <td>Lisboa</td>\n",
       "      <td>Belm</td>\n",
       "      <td>38.69750</td>\n",
       "      <td>-9.19768</td>\n",
       "      <td>Entire home/apt</td>\n",
       "      <td>40</td>\n",
       "      <td>3</td>\n",
       "      <td>26</td>\n",
       "      <td>2020-01-03</td>\n",
       "      <td>0.37</td>\n",
       "      <td>1</td>\n",
       "      <td>340</td>\n",
       "    </tr>\n",
       "    <tr>\n",
       "      <th>1</th>\n",
       "      <td>25659</td>\n",
       "      <td>Sunny,  Alfama  Sleeps 3 - Coeur d'Alfama</td>\n",
       "      <td>107347</td>\n",
       "      <td>Ellie</td>\n",
       "      <td>Lisboa</td>\n",
       "      <td>Santa Maria Maior</td>\n",
       "      <td>38.71167</td>\n",
       "      <td>-9.12696</td>\n",
       "      <td>Entire home/apt</td>\n",
       "      <td>60</td>\n",
       "      <td>3</td>\n",
       "      <td>113</td>\n",
       "      <td>2019-12-08</td>\n",
       "      <td>1.52</td>\n",
       "      <td>1</td>\n",
       "      <td>321</td>\n",
       "    </tr>\n",
       "    <tr>\n",
       "      <th>2</th>\n",
       "      <td>29248</td>\n",
       "      <td>Apartamento Alfama com vista para o rio!</td>\n",
       "      <td>125768</td>\n",
       "      <td>Bárbara</td>\n",
       "      <td>Lisboa</td>\n",
       "      <td>Santa Maria Maior</td>\n",
       "      <td>38.71272</td>\n",
       "      <td>-9.12628</td>\n",
       "      <td>Entire home/apt</td>\n",
       "      <td>60</td>\n",
       "      <td>1</td>\n",
       "      <td>321</td>\n",
       "      <td>2020-03-11</td>\n",
       "      <td>2.80</td>\n",
       "      <td>1</td>\n",
       "      <td>350</td>\n",
       "    </tr>\n",
       "    <tr>\n",
       "      <th>3</th>\n",
       "      <td>29396</td>\n",
       "      <td>Alfama Hill - Boutique apartment</td>\n",
       "      <td>126415</td>\n",
       "      <td>Mónica</td>\n",
       "      <td>Lisboa</td>\n",
       "      <td>Santa Maria Maior</td>\n",
       "      <td>38.71239</td>\n",
       "      <td>-9.12887</td>\n",
       "      <td>Entire home/apt</td>\n",
       "      <td>60</td>\n",
       "      <td>2</td>\n",
       "      <td>239</td>\n",
       "      <td>2020-03-15</td>\n",
       "      <td>2.45</td>\n",
       "      <td>2</td>\n",
       "      <td>296</td>\n",
       "    </tr>\n",
       "    <tr>\n",
       "      <th>4</th>\n",
       "      <td>29720</td>\n",
       "      <td>TheHOUSE - Your luxury home</td>\n",
       "      <td>128075</td>\n",
       "      <td>Francisco</td>\n",
       "      <td>Lisboa</td>\n",
       "      <td>Estrela</td>\n",
       "      <td>38.71195</td>\n",
       "      <td>-9.15877</td>\n",
       "      <td>Entire home/apt</td>\n",
       "      <td>1100</td>\n",
       "      <td>2</td>\n",
       "      <td>55</td>\n",
       "      <td>2020-03-15</td>\n",
       "      <td>0.48</td>\n",
       "      <td>2</td>\n",
       "      <td>322</td>\n",
       "    </tr>\n",
       "    <tr>\n",
       "      <th>...</th>\n",
       "      <td>...</td>\n",
       "      <td>...</td>\n",
       "      <td>...</td>\n",
       "      <td>...</td>\n",
       "      <td>...</td>\n",
       "      <td>...</td>\n",
       "      <td>...</td>\n",
       "      <td>...</td>\n",
       "      <td>...</td>\n",
       "      <td>...</td>\n",
       "      <td>...</td>\n",
       "      <td>...</td>\n",
       "      <td>...</td>\n",
       "      <td>...</td>\n",
       "      <td>...</td>\n",
       "      <td>...</td>\n",
       "    </tr>\n",
       "    <tr>\n",
       "      <th>24169</th>\n",
       "      <td>43355588</td>\n",
       "      <td>Quarto com Cama King Size</td>\n",
       "      <td>134533163</td>\n",
       "      <td>André</td>\n",
       "      <td>Lisboa</td>\n",
       "      <td>Beato</td>\n",
       "      <td>38.73448</td>\n",
       "      <td>-9.11330</td>\n",
       "      <td>Private room</td>\n",
       "      <td>25</td>\n",
       "      <td>1</td>\n",
       "      <td>1</td>\n",
       "      <td>2020-05-20</td>\n",
       "      <td>1.00</td>\n",
       "      <td>2</td>\n",
       "      <td>270</td>\n",
       "    </tr>\n",
       "    <tr>\n",
       "      <th>24200</th>\n",
       "      <td>43408245</td>\n",
       "      <td>CB LISBOA - SUNNY AND ELEGANT APARTMENT - LAPA V</td>\n",
       "      <td>318343650</td>\n",
       "      <td>Casa Boma</td>\n",
       "      <td>Lisboa</td>\n",
       "      <td>Estrela</td>\n",
       "      <td>38.71005</td>\n",
       "      <td>-9.15838</td>\n",
       "      <td>Entire home/apt</td>\n",
       "      <td>119</td>\n",
       "      <td>1</td>\n",
       "      <td>1</td>\n",
       "      <td>2020-05-25</td>\n",
       "      <td>1.00</td>\n",
       "      <td>9</td>\n",
       "      <td>309</td>\n",
       "    </tr>\n",
       "    <tr>\n",
       "      <th>24203</th>\n",
       "      <td>43409525</td>\n",
       "      <td>Sintra - Escape to Nature 1</td>\n",
       "      <td>7555035</td>\n",
       "      <td>Ana</td>\n",
       "      <td>Sintra</td>\n",
       "      <td>S.Maria, S.Miguel, S.Martinho, S.Pedro Penaferrim</td>\n",
       "      <td>38.80154</td>\n",
       "      <td>-9.39237</td>\n",
       "      <td>Private room</td>\n",
       "      <td>50</td>\n",
       "      <td>1</td>\n",
       "      <td>1</td>\n",
       "      <td>2020-05-24</td>\n",
       "      <td>1.00</td>\n",
       "      <td>5</td>\n",
       "      <td>340</td>\n",
       "    </tr>\n",
       "    <tr>\n",
       "      <th>24205</th>\n",
       "      <td>43410578</td>\n",
       "      <td>Sintra - Escape to Nature 5</td>\n",
       "      <td>7555035</td>\n",
       "      <td>Ana</td>\n",
       "      <td>Sintra</td>\n",
       "      <td>S.Maria, S.Miguel, S.Martinho, S.Pedro Penaferrim</td>\n",
       "      <td>38.80035</td>\n",
       "      <td>-9.39256</td>\n",
       "      <td>Private room</td>\n",
       "      <td>50</td>\n",
       "      <td>1</td>\n",
       "      <td>2</td>\n",
       "      <td>2020-05-21</td>\n",
       "      <td>2.00</td>\n",
       "      <td>5</td>\n",
       "      <td>301</td>\n",
       "    </tr>\n",
       "    <tr>\n",
       "      <th>24296</th>\n",
       "      <td>43563882</td>\n",
       "      <td>New! MY LX FLAT Luxury Chiado Design Apartment</td>\n",
       "      <td>17125483</td>\n",
       "      <td>Patrícia</td>\n",
       "      <td>Lisboa</td>\n",
       "      <td>Misericrdia</td>\n",
       "      <td>38.70860</td>\n",
       "      <td>-9.14335</td>\n",
       "      <td>Entire home/apt</td>\n",
       "      <td>120</td>\n",
       "      <td>1</td>\n",
       "      <td>1</td>\n",
       "      <td>2020-05-30</td>\n",
       "      <td>1.00</td>\n",
       "      <td>25</td>\n",
       "      <td>351</td>\n",
       "    </tr>\n",
       "  </tbody>\n",
       "</table>\n",
       "<p>17135 rows × 16 columns</p>\n",
       "</div>"
      ],
      "text/plain": [
       "             id                                              name    host_id  \\\n",
       "0          6499              Belém 1 Bedroom Historical Apartment      14455   \n",
       "1         25659         Sunny,  Alfama  Sleeps 3 - Coeur d'Alfama     107347   \n",
       "2         29248          Apartamento Alfama com vista para o rio!     125768   \n",
       "3         29396                  Alfama Hill - Boutique apartment     126415   \n",
       "4         29720                       TheHOUSE - Your luxury home     128075   \n",
       "...         ...                                               ...        ...   \n",
       "24169  43355588                         Quarto com Cama King Size  134533163   \n",
       "24200  43408245  CB LISBOA - SUNNY AND ELEGANT APARTMENT - LAPA V  318343650   \n",
       "24203  43409525                       Sintra - Escape to Nature 1    7555035   \n",
       "24205  43410578                       Sintra - Escape to Nature 5    7555035   \n",
       "24296  43563882    New! MY LX FLAT Luxury Chiado Design Apartment   17125483   \n",
       "\n",
       "       host_name neighbourhood_group  \\\n",
       "0          Bruno              Lisboa   \n",
       "1          Ellie              Lisboa   \n",
       "2        Bárbara              Lisboa   \n",
       "3         Mónica              Lisboa   \n",
       "4      Francisco              Lisboa   \n",
       "...          ...                 ...   \n",
       "24169      André              Lisboa   \n",
       "24200  Casa Boma              Lisboa   \n",
       "24203        Ana              Sintra   \n",
       "24205        Ana              Sintra   \n",
       "24296   Patrícia              Lisboa   \n",
       "\n",
       "                                           neighbourhood  latitude  longitude  \\\n",
       "0                                                   Belm  38.69750   -9.19768   \n",
       "1                                      Santa Maria Maior  38.71167   -9.12696   \n",
       "2                                      Santa Maria Maior  38.71272   -9.12628   \n",
       "3                                      Santa Maria Maior  38.71239   -9.12887   \n",
       "4                                                Estrela  38.71195   -9.15877   \n",
       "...                                                  ...       ...        ...   \n",
       "24169                                              Beato  38.73448   -9.11330   \n",
       "24200                                            Estrela  38.71005   -9.15838   \n",
       "24203  S.Maria, S.Miguel, S.Martinho, S.Pedro Penaferrim  38.80154   -9.39237   \n",
       "24205  S.Maria, S.Miguel, S.Martinho, S.Pedro Penaferrim  38.80035   -9.39256   \n",
       "24296                                        Misericrdia  38.70860   -9.14335   \n",
       "\n",
       "             room_type  price  minimum_nights  number_of_reviews last_review  \\\n",
       "0      Entire home/apt     40               3                 26  2020-01-03   \n",
       "1      Entire home/apt     60               3                113  2019-12-08   \n",
       "2      Entire home/apt     60               1                321  2020-03-11   \n",
       "3      Entire home/apt     60               2                239  2020-03-15   \n",
       "4      Entire home/apt   1100               2                 55  2020-03-15   \n",
       "...                ...    ...             ...                ...         ...   \n",
       "24169     Private room     25               1                  1  2020-05-20   \n",
       "24200  Entire home/apt    119               1                  1  2020-05-25   \n",
       "24203     Private room     50               1                  1  2020-05-24   \n",
       "24205     Private room     50               1                  2  2020-05-21   \n",
       "24296  Entire home/apt    120               1                  1  2020-05-30   \n",
       "\n",
       "       reviews_per_month  calculated_host_listings_count  availability_365  \n",
       "0                   0.37                               1               340  \n",
       "1                   1.52                               1               321  \n",
       "2                   2.80                               1               350  \n",
       "3                   2.45                               2               296  \n",
       "4                   0.48                               2               322  \n",
       "...                  ...                             ...               ...  \n",
       "24169               1.00                               2               270  \n",
       "24200               1.00                               9               309  \n",
       "24203               1.00                               5               340  \n",
       "24205               2.00                               5               301  \n",
       "24296               1.00                              25               351  \n",
       "\n",
       "[17135 rows x 16 columns]"
      ]
     },
     "execution_count": 9,
     "metadata": {},
     "output_type": "execute_result"
    }
   ],
   "source": [
    "mask = (listings_two['last_review'] > '2019-6-5') & (listings_two['last_review'] <= '2020-6-5')\n",
    "listings_two.loc[mask]"
   ]
  },
  {
   "cell_type": "markdown",
   "metadata": {},
   "source": [
    "# how do I get the min and max price for entire home/apt?"
   ]
  },
  {
   "cell_type": "code",
   "execution_count": 57,
   "metadata": {},
   "outputs": [
    {
     "data": {
      "text/html": [
       "<div>\n",
       "<style scoped>\n",
       "    .dataframe tbody tr th:only-of-type {\n",
       "        vertical-align: middle;\n",
       "    }\n",
       "\n",
       "    .dataframe tbody tr th {\n",
       "        vertical-align: top;\n",
       "    }\n",
       "\n",
       "    .dataframe thead th {\n",
       "        text-align: right;\n",
       "    }\n",
       "</style>\n",
       "<table border=\"1\" class=\"dataframe\">\n",
       "  <thead>\n",
       "    <tr style=\"text-align: right;\">\n",
       "      <th></th>\n",
       "      <th>room_type</th>\n",
       "      <th>price</th>\n",
       "    </tr>\n",
       "  </thead>\n",
       "  <tbody>\n",
       "    <tr>\n",
       "      <th>0</th>\n",
       "      <td>Entire home/apt</td>\n",
       "      <td>40</td>\n",
       "    </tr>\n",
       "    <tr>\n",
       "      <th>1</th>\n",
       "      <td>Entire home/apt</td>\n",
       "      <td>60</td>\n",
       "    </tr>\n",
       "    <tr>\n",
       "      <th>2</th>\n",
       "      <td>Entire home/apt</td>\n",
       "      <td>60</td>\n",
       "    </tr>\n",
       "    <tr>\n",
       "      <th>3</th>\n",
       "      <td>Entire home/apt</td>\n",
       "      <td>60</td>\n",
       "    </tr>\n",
       "    <tr>\n",
       "      <th>4</th>\n",
       "      <td>Entire home/apt</td>\n",
       "      <td>1100</td>\n",
       "    </tr>\n",
       "    <tr>\n",
       "      <th>...</th>\n",
       "      <td>...</td>\n",
       "      <td>...</td>\n",
       "    </tr>\n",
       "    <tr>\n",
       "      <th>24297</th>\n",
       "      <td>Private room</td>\n",
       "      <td>35</td>\n",
       "    </tr>\n",
       "    <tr>\n",
       "      <th>24298</th>\n",
       "      <td>Entire home/apt</td>\n",
       "      <td>350</td>\n",
       "    </tr>\n",
       "    <tr>\n",
       "      <th>24299</th>\n",
       "      <td>Entire home/apt</td>\n",
       "      <td>94</td>\n",
       "    </tr>\n",
       "    <tr>\n",
       "      <th>24300</th>\n",
       "      <td>Entire home/apt</td>\n",
       "      <td>60</td>\n",
       "    </tr>\n",
       "    <tr>\n",
       "      <th>24301</th>\n",
       "      <td>Private room</td>\n",
       "      <td>200</td>\n",
       "    </tr>\n",
       "  </tbody>\n",
       "</table>\n",
       "<p>24302 rows × 2 columns</p>\n",
       "</div>"
      ],
      "text/plain": [
       "             room_type  price\n",
       "0      Entire home/apt     40\n",
       "1      Entire home/apt     60\n",
       "2      Entire home/apt     60\n",
       "3      Entire home/apt     60\n",
       "4      Entire home/apt   1100\n",
       "...                ...    ...\n",
       "24297     Private room     35\n",
       "24298  Entire home/apt    350\n",
       "24299  Entire home/apt     94\n",
       "24300  Entire home/apt     60\n",
       "24301     Private room    200\n",
       "\n",
       "[24302 rows x 2 columns]"
      ]
     },
     "execution_count": 57,
     "metadata": {},
     "output_type": "execute_result"
    }
   ],
   "source": [
    "# listings_two[mask].groupby(['room_type']).agg(np.mean)['price'].round(2)\n",
    "# listings_two[mask].groupby(['room_type']).min\n",
    "# listings_two[mask]['price'].mean().round(2)\n",
    "listings_two[['room_type', 'price']]"
   ]
  },
  {
   "cell_type": "markdown",
   "metadata": {},
   "source": [
    "# number of reviews per neighbourhood\n",
    "- use sum or count? * minimum nights * price"
   ]
  },
  {
   "cell_type": "code",
   "execution_count": 29,
   "metadata": {},
   "outputs": [
    {
     "data": {
      "text/plain": [
       "neighbourhood\n",
       "Santa Maria Maior       2892\n",
       "Misericrdia             2363\n",
       "Arroios                 1589\n",
       "So Vicente              1140\n",
       "Santo Antnio            1071\n",
       "                        ... \n",
       "Cardosas                   1\n",
       "Aveiras de Baixo           1\n",
       "Vale do Paraso             1\n",
       "Carregado e Cadafais       1\n",
       "Moita dos Ferreiros        1\n",
       "Name: number_of_reviews, Length: 121, dtype: int64"
      ]
     },
     "execution_count": 29,
     "metadata": {},
     "output_type": "execute_result"
    }
   ],
   "source": [
    "listings_two[mask].groupby(['neighbourhood']).count()['number_of_reviews'].sort_values(ascending=False)\n",
    "# listings_two[mask].groupby(['neighbourhood']).agg(np.sum)['number_of_reviews'].sort_values(ascending=False)"
   ]
  },
  {
   "cell_type": "code",
   "execution_count": 13,
   "metadata": {},
   "outputs": [
    {
     "name": "stdout",
     "output_type": "stream",
     "text": [
      "<class 'pandas.core.frame.DataFrame'>\n",
      "RangeIndex: 24302 entries, 0 to 24301\n",
      "Data columns (total 16 columns):\n",
      " #   Column                          Non-Null Count  Dtype         \n",
      "---  ------                          --------------  -----         \n",
      " 0   id                              24302 non-null  int64         \n",
      " 1   name                            24283 non-null  object        \n",
      " 2   host_id                         24302 non-null  int64         \n",
      " 3   host_name                       24301 non-null  object        \n",
      " 4   neighbourhood_group             24302 non-null  object        \n",
      " 5   neighbourhood                   24302 non-null  object        \n",
      " 6   latitude                        24302 non-null  float64       \n",
      " 7   longitude                       24302 non-null  float64       \n",
      " 8   room_type                       24302 non-null  object        \n",
      " 9   price                           24302 non-null  int64         \n",
      " 10  minimum_nights                  24302 non-null  int64         \n",
      " 11  number_of_reviews               24302 non-null  int64         \n",
      " 12  last_review                     20075 non-null  datetime64[ns]\n",
      " 13  reviews_per_month               20075 non-null  float64       \n",
      " 14  calculated_host_listings_count  24302 non-null  int64         \n",
      " 15  availability_365                24302 non-null  int64         \n",
      "dtypes: datetime64[ns](1), float64(3), int64(7), object(5)\n",
      "memory usage: 3.0+ MB\n"
     ]
    }
   ],
   "source": [
    "listings_two.info()"
   ]
  },
  {
   "cell_type": "code",
   "execution_count": null,
   "metadata": {},
   "outputs": [],
   "source": [
    "listings_two.groupby(['neighbourhood']).agg(np.sum).describe()"
   ]
  },
  {
   "cell_type": "code",
   "execution_count": null,
   "metadata": {},
   "outputs": [],
   "source": [
    "listings_two.groupby(['neighbourhood']).agg(np.sum)['number_of_reviews'].sort_values(ascending=False)"
   ]
  },
  {
   "cell_type": "code",
   "execution_count": null,
   "metadata": {},
   "outputs": [],
   "source": [
    "calendar.describe()"
   ]
  },
  {
   "cell_type": "code",
   "execution_count": null,
   "metadata": {},
   "outputs": [],
   "source": [
    "calendar.groupby('listing_id').mean()"
   ]
  },
  {
   "cell_type": "code",
   "execution_count": null,
   "metadata": {},
   "outputs": [],
   "source": [
    "# df.info(verbose=True)"
   ]
  },
  {
   "cell_type": "code",
   "execution_count": null,
   "metadata": {},
   "outputs": [],
   "source": [
    "# df[['price_x','price_y']]"
   ]
  },
  {
   "cell_type": "code",
   "execution_count": null,
   "metadata": {},
   "outputs": [],
   "source": [
    "# df.groupby(['room_type_x']).count().sort_values(by='id',ascending=False)"
   ]
  },
  {
   "cell_type": "code",
   "execution_count": null,
   "metadata": {},
   "outputs": [],
   "source": [
    "# df.groupby(['room_type_x']).agg(np.median)[['price_y']].sort_values(by='price_y', ascending=False)"
   ]
  },
  {
   "cell_type": "code",
   "execution_count": null,
   "metadata": {},
   "outputs": [],
   "source": [
    "# df.groupby(['property_type']).count().sort_values(by='id', ascending=False)"
   ]
  },
  {
   "cell_type": "code",
   "execution_count": null,
   "metadata": {},
   "outputs": [],
   "source": [
    "# df.groupby(['property_type']).agg(np.mean).sort_values(by='id', ascending=False)"
   ]
  },
  {
   "cell_type": "code",
   "execution_count": null,
   "metadata": {},
   "outputs": [],
   "source": [
    "# df.info(verbose=True)"
   ]
  },
  {
   "cell_type": "code",
   "execution_count": null,
   "metadata": {},
   "outputs": [],
   "source": [
    "# df[['calculated_host_listings_count_x']]"
   ]
  },
  {
   "cell_type": "code",
   "execution_count": null,
   "metadata": {},
   "outputs": [],
   "source": [
    "listings_two.columns.values"
   ]
  },
  {
   "cell_type": "code",
   "execution_count": 12,
   "metadata": {},
   "outputs": [
    {
     "data": {
      "text/plain": [
       "id                                14913\n",
       "name                              14904\n",
       "host_id                           14913\n",
       "host_name                         14913\n",
       "neighbourhood_group               14913\n",
       "neighbourhood                     14913\n",
       "latitude                          14913\n",
       "longitude                         14913\n",
       "room_type                         14913\n",
       "price                             14913\n",
       "minimum_nights                    14913\n",
       "number_of_reviews                 14913\n",
       "last_review                       12478\n",
       "reviews_per_month                 12478\n",
       "calculated_host_listings_count    14913\n",
       "availability_365                  14913\n",
       "dtype: int64"
      ]
     },
     "execution_count": 12,
     "metadata": {},
     "output_type": "execute_result"
    }
   ],
   "source": [
    "listings_two.loc[listings_two['availability_365']>180].count()"
   ]
  },
  {
   "cell_type": "code",
   "execution_count": null,
   "metadata": {},
   "outputs": [],
   "source": [
    "listings_two[['host_id', 'calculated_host_listings_count']]"
   ]
  },
  {
   "cell_type": "code",
   "execution_count": null,
   "metadata": {},
   "outputs": [],
   "source": [
    "listings_two.groupby(['host_id']).agg(np.mean)"
   ]
  },
  {
   "cell_type": "markdown",
   "metadata": {},
   "source": [
    "## count host listings"
   ]
  },
  {
   "cell_type": "code",
   "execution_count": null,
   "metadata": {},
   "outputs": [],
   "source": []
  },
  {
   "cell_type": "markdown",
   "metadata": {},
   "source": [
    "## Calculate total income"
   ]
  },
  {
   "cell_type": "code",
   "execution_count": null,
   "metadata": {},
   "outputs": [],
   "source": []
  },
  {
   "cell_type": "code",
   "execution_count": null,
   "metadata": {},
   "outputs": [],
   "source": []
  }
 ],
 "metadata": {
  "kernelspec": {
   "display_name": "Python 3",
   "language": "python",
   "name": "python3"
  },
  "language_info": {
   "codemirror_mode": {
    "name": "ipython",
    "version": 3
   },
   "file_extension": ".py",
   "mimetype": "text/x-python",
   "name": "python",
   "nbconvert_exporter": "python",
   "pygments_lexer": "ipython3",
   "version": "3.7.7"
  }
 },
 "nbformat": 4,
 "nbformat_minor": 4
}
